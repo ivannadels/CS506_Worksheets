{
 "cells": [
  {
   "attachments": {},
   "cell_type": "markdown",
   "metadata": {},
   "source": [
    "# Worksheet 08\n",
    "\n",
    "Name:  Ivanna M\n",
    "UID: U69469925\n",
    "\n",
    "### Topics\n",
    "\n",
    "- Soft Clustering\n",
    "- Clustering Aggregation\n",
    "\n",
    "### Probability Review\n",
    "\n",
    "Read through [the following](https://medium.com/@gallettilance/overview-of-probability-3272b72c82c8)\n",
    "\n",
    "### Soft Clustering\n",
    "\n",
    "We generate 10 data points that come from a normal distribution with mean 5 and variance 1."
   ]
  },
  {
   "cell_type": "code",
   "execution_count": 1,
   "metadata": {},
   "outputs": [
    {
     "name": "stdout",
     "output_type": "stream",
     "text": [
      "[4.708619598341939, 5.024427794026485, 5.235113248861341, 6.442723348419195, 5.856582360864448, 4.762819880108156, 5.985208393294818, 6.380606088795176, 5.684483599346628, 4.920183863026301]\n"
     ]
    }
   ],
   "source": [
    "import random\n",
    "import numpy as np\n",
    "from sklearn.cluster import KMeans\n",
    "\n",
    "mean = 5\n",
    "stdev = 1\n",
    "\n",
    "s1 = np.random.normal(mean, stdev, 10).tolist()\n",
    "print(s1)"
   ]
  },
  {
   "cell_type": "markdown",
   "metadata": {},
   "source": [
    "a) Generate 10 more data points, this time coming from a normal distribution with mean 8 and variance 1."
   ]
  },
  {
   "cell_type": "code",
   "execution_count": 8,
   "metadata": {},
   "outputs": [
    {
     "name": "stdout",
     "output_type": "stream",
     "text": [
      "[6.912206117086036, 8.568105883391004, 9.455632315923163, 8.815923156009507, 6.714533948909612, 9.276770297514524, 7.556072678055267, 9.679244229300338, 8.47123832810856, 7.726731821707084]\n"
     ]
    }
   ],
   "source": [
    "s2 = np.random.normal( 8 , 1 , 10 ).tolist()\n",
    "print(s2)"
   ]
  },
  {
   "cell_type": "markdown",
   "metadata": {},
   "source": [
    "b) Flip a fair coin 10 times. If the coin lands on H, then pick the last data point of `c1` and remove it from `c1`, if T then pick the last data point from `c2` and remove it from `c2`. Add these 10 points to a list called `data`."
   ]
  },
  {
   "cell_type": "code",
   "execution_count": 9,
   "metadata": {},
   "outputs": [
    {
     "name": "stdout",
     "output_type": "stream",
     "text": [
      "[7.726731821707084, 6.442723348419195, 5.856582360864448, 4.762819880108156, 8.47123832810856, 5.985208393294818, 6.0265890314046855, 9.679244229300338, 7.556072678055267, 9.276770297514524]\n"
     ]
    }
   ],
   "source": [
    "data = []\n",
    "for i in range(10):\n",
    "    # flip coin\n",
    "    coin_output = random.choice([0, 1])\n",
    "    if coin_output == 0:\n",
    "        p1 = s1.pop()\n",
    "        data.append(p1)\n",
    "    else:\n",
    "        p2 = s2.pop()\n",
    "        data.append(p2)\n",
    "print(data)"
   ]
  },
  {
   "cell_type": "markdown",
   "metadata": {},
   "source": [
    "c) This `data` is a Gaussian Mixture Distribution with 2 mixture components. Over the next few questions we will walk through the GMM algorithm to see if we can uncover the parameters we used to generate this data. First, please list all these parameters of the GMM that created `data` and the values we know they have."
   ]
  },
  {
   "cell_type": "markdown",
   "metadata": {},
   "source": [
    "- Number of components = 2\n",
    "- Weights: probability associated with each component that a datapoint belongs to said component.\n",
    "- mean of each component\n",
    "- variance"
   ]
  },
  {
   "cell_type": "markdown",
   "metadata": {},
   "source": [
    "d) Let's assume there are two mixture components (note: we could plot the data and make the observation that there are two clusters). The EM algorithm asks us to start with a random `mean_j`, `variance_j`, `P(S_j)` for each component j. One method we could use to find sensible values for these is to apply K means with k=2 here.\n",
    "\n",
    "1. the centroids would be the estimates of the `mean_j`\n",
    "2. the intra-cluster variance could be the estimate of `variance_j`\n",
    "3. the proportion of points in each cluster could be the estimate of `P(S_j)`\n",
    "\n",
    "Go through this process and list the parameter estimates it gives. Are they close or far from the true values?"
   ]
  },
  {
   "cell_type": "code",
   "execution_count": 10,
   "metadata": {},
   "outputs": [
    {
     "name": "stdout",
     "output_type": "stream",
     "text": [
      "[7.726731821707084, 8.47123832810856, 9.679244229300338, 7.556072678055267, 9.276770297514524]\n",
      "[6.442723348419195, 5.856582360864448, 4.762819880108156, 5.985208393294818, 6.0265890314046855]\n",
      "P(S_1) = 0.5,  P(S_2) = 0.5\n",
      "mean_1 = 8.542011470937155,  mean_2 = 5.814784602818261\n",
      "var_1 = 0.6949867854863248,  var_2 = 7.7530842467816585\n"
     ]
    },
    {
     "name": "stderr",
     "output_type": "stream",
     "text": [
      "C:\\Users\\ivann\\AppData\\Local\\Packages\\PythonSoftwareFoundation.Python.3.10_qbz5n2kfra8p0\\LocalCache\\local-packages\\Python310\\site-packages\\sklearn\\cluster\\_kmeans.py:1416: FutureWarning: The default value of `n_init` will change from 10 to 'auto' in 1.4. Set the value of `n_init` explicitly to suppress the warning\n",
      "  super()._check_params_vs_input(X, default_n_init=10)\n"
     ]
    }
   ],
   "source": [
    "kmeans = KMeans(2, init='k-means++').fit(X=np.array(data).reshape(-1, 1))\n",
    "\n",
    "s1 = [x[0] for x in filter(lambda x: x[1] == 0, zip(data, kmeans.labels_))]\n",
    "print(s1)\n",
    "s2 = [x[0] for x in filter(lambda x: x[1] != 0, zip(data, kmeans.labels_))]\n",
    "print(s2)\n",
    "\n",
    "prob_s = [ len(s1) / (len(s1) + len(s2)) , len(s2)/(len(s1) + len(s2)) ]\n",
    "mean = [ sum(s1)/len(s1) , sum(s2)/len(s2) ]\n",
    "var = [ sum(map(lambda x : (x - mean[0])**2, s1)) / len(s1) , sum(map(lambda x : (x - mean[0])**2, s2)) / len(s2)  ]\n",
    "\n",
    "print(\"P(S_1) = \" + str(prob_s[0]) + \",  P(S_2) = \" + str(prob_s[1]))\n",
    "print(\"mean_1 = \" + str(mean[0]) + \",  mean_2 = \" + str(mean[1]))\n",
    "print(\"var_1 = \" + str(var[0]) + \",  var_2 = \" + str(var[1]))"
   ]
  },
  {
   "cell_type": "markdown",
   "metadata": {},
   "source": [
    "Most of the parameters are close to the true values, except variance."
   ]
  },
  {
   "cell_type": "markdown",
   "metadata": {},
   "source": [
    "e) For each data point, compute `P(S_j | X_i)`. Comment on which cluster you think each point belongs to based on the estimated probabilities. How does that compare to the truth?"
   ]
  },
  {
   "cell_type": "code",
   "execution_count": 11,
   "metadata": {},
   "outputs": [
    {
     "name": "stdout",
     "output_type": "stream",
     "text": [
      "point =  7.726731821707084\n",
      "probability of observing that point if it came from cluster 0 =  0.2884763677211606\n",
      "probability of observing that point if it came from cluster 1 =  0.04991487570886329\n",
      "point =  6.442723348419195\n",
      "probability of observing that point if it came from cluster 0 =  0.005993161310533134\n",
      "probability of observing that point if it came from cluster 1 =  0.05128745356267344\n",
      "point =  5.856582360864448\n",
      "probability of observing that point if it came from cluster 0 =  0.00032871316170918674\n",
      "probability of observing that point if it came from cluster 1 =  0.05145519773744122\n",
      "point =  4.762819880108156\n",
      "probability of observing that point if it came from cluster 0 =  2.1776454595624525e-07\n",
      "probability of observing that point if it came from cluster 1 =  0.05098446730213555\n",
      "point =  8.47123832810856\n",
      "probability of observing that point if it came from cluster 0 =  0.5710599138115292\n",
      "probability of observing that point if it came from cluster 1 =  0.04852250526218404\n",
      "point =  5.985208393294818\n",
      "probability of observing that point if it came from cluster 0 =  0.0006606314710886002\n",
      "probability of observing that point if it came from cluster 1 =  0.05144351568105831\n",
      "point =  6.0265890314046855\n",
      "probability of observing that point if it came from cluster 0 =  0.0008209585309135158\n",
      "probability of observing that point if it came from cluster 1 =  0.0514367479514253\n",
      "point =  9.679244229300338\n",
      "probability of observing that point if it came from cluster 0 =  0.15048740780874886\n",
      "probability of observing that point if it came from cluster 1 =  0.04544505463357936\n",
      "point =  7.556072678055267\n",
      "probability of observing that point if it came from cluster 0 =  0.20985228453179094\n",
      "probability of observing that point if it came from cluster 1 =  0.050174404055482125\n",
      "point =  9.276770297514524\n",
      "probability of observing that point if it came from cluster 0 =  0.3282628564762087\n",
      "probability of observing that point if it came from cluster 1 =  0.04657348729322472\n",
      "7.726731821707084\n",
      "Probability of coming from S_1 = 0.852493595274769\n",
      "Probability of coming from S_2 = 0.14750640472523108\n",
      "\n",
      "6.442723348419195\n",
      "Probability of coming from S_1 = 0.10462808969141285\n",
      "Probability of coming from S_2 = 0.8953719103085872\n",
      "\n",
      "5.856582360864448\n",
      "Probability of coming from S_1 = 0.006347785557358893\n",
      "Probability of coming from S_2 = 0.9936522144426411\n",
      "\n",
      "4.762819880108156\n",
      "Probability of coming from S_1 = 4.271175661307642e-06\n",
      "Probability of coming from S_2 = 0.9999957288243386\n",
      "\n",
      "8.47123832810856\n",
      "Probability of coming from S_1 = 0.9216851483056506\n",
      "Probability of coming from S_2 = 0.07831485169434932\n",
      "\n",
      "5.985208393294818\n",
      "Probability of coming from S_1 = 0.012679057372525853\n",
      "Probability of coming from S_2 = 0.9873209426274742\n",
      "\n",
      "6.0265890314046855\n",
      "Probability of coming from S_1 = 0.015709807914952596\n",
      "Probability of coming from S_2 = 0.9842901920850473\n",
      "\n",
      "9.679244229300338\n",
      "Probability of coming from S_1 = 0.7680575537759298\n",
      "Probability of coming from S_2 = 0.23194244622407015\n",
      "\n",
      "7.556072678055267\n",
      "Probability of coming from S_1 = 0.8070413297647252\n",
      "Probability of coming from S_2 = 0.19295867023527483\n",
      "\n",
      "9.276770297514524\n",
      "Probability of coming from S_1 = 0.8757498090370002\n",
      "Probability of coming from S_2 = 0.12425019096299973\n",
      "\n"
     ]
    }
   ],
   "source": [
    "from scipy.stats import norm\n",
    "\n",
    "prob_s0_x = [] # P(S_0 | X_i)\n",
    "prob_s1_x = [] # P(S_1 | X_i)\n",
    "prob_x = [] # P(X_i)\n",
    "\n",
    "k = 2\n",
    "\n",
    "for p in data:\n",
    "    print(\"point = \", p)\n",
    "    pdf_i = []\n",
    "\n",
    "    for j in range(k):\n",
    "        # P(X_i | S_j)\n",
    "        pdf_i.append(norm.pdf(p, mean[j], var[j]))\n",
    "        print(\"probability of observing that point if it came from cluster \" + str(j) + \" = \", pdf_i[j])\n",
    "        # P(S_j) already computed\n",
    "        prob_s[j]\n",
    "\n",
    "    # P(X_i) = P(S_0)P(X_i | S_0) + P(S_1)P(X_i | S_1)\n",
    "    prob_x = prob_s[0] * pdf_i[0] + prob_s[1] * pdf_i[1]\n",
    "\n",
    "    # P(S_j | X_i) = P(X_i | S_j)P(S_j) / P(X_i)\n",
    "    prob_s0_x.append( pdf_i[0]*prob_s[0]/prob_x )\n",
    "    prob_s1_x.append( pdf_i[1]*prob_s[1]/prob_x )\n",
    "\n",
    "probs = zip(data, prob_s0_x, prob_s1_x)\n",
    "for p in probs:\n",
    "    print(p[0])\n",
    "    print(\"Probability of coming from S_1 = \" + str(p[1]))\n",
    "    print(\"Probability of coming from S_2 = \" + str(p[2]))\n",
    "    print()\n"
   ]
  },
  {
   "cell_type": "markdown",
   "metadata": {},
   "source": [
    "\n",
    "7.726731821707084\n",
    "Probability of coming from S_1 = 0.852493595274769\n",
    "Probability of coming from S_2 = 0.14750640472523108\n",
    "Point is likely in cluster 0.\n",
    "\n",
    "6.442723348419195\n",
    "Probability of coming from S_1 = 0.10462808969141285\n",
    "Probability of coming from S_2 = 0.8953719103085872\n",
    "Point is likely in cluster 1.\n",
    "\n",
    "\n",
    "5.856582360864448\n",
    "Probability of coming from S_1 = 0.006347785557358893\n",
    "Probability of coming from S_2 = 0.9936522144426411\n",
    "Point is likely in cluster 1.\n",
    "\n",
    "4.762819880108156\n",
    "Probability of coming from S_1 = 4.271175661307642e-06\n",
    "Probability of coming from S_2 = 0.9999957288243386\n",
    "Point is likely in cluster 1.\n",
    "\n",
    "8.47123832810856\n",
    "Probability of coming from S_1 = 0.9216851483056506\n",
    "Probability of coming from S_2 = 0.07831485169434932\n",
    "Point is likely in cluster 0.\n",
    "\n",
    "5.985208393294818\n",
    "Probability of coming from S_1 = 0.012679057372525853\n",
    "Probability of coming from S_2 = 0.9873209426274742\n",
    "Point is likely in cluster 1.\n",
    "\n",
    "6.0265890314046855\n",
    "Probability of coming from S_1 = 0.015709807914952596\n",
    "Probability of coming from S_2 = 0.9842901920850473\n",
    "Point is likely in cluster 1.\n",
    "\n",
    "9.679244229300338\n",
    "Probability of coming from S_1 = 0.7680575537759298\n",
    "Probability of coming from S_2 = 0.23194244622407015\n",
    "Point is likely in cluster 0.\n",
    "\n",
    "7.556072678055267\n",
    "Probability of coming from S_1 = 0.8070413297647252\n",
    "Probability of coming from S_2 = 0.19295867023527483\n",
    "Point is likely in cluster 0.\n",
    "\n",
    "9.276770297514524\n",
    "Probability of coming from S_1 = 0.8757498090370002\n",
    "Probability of coming from S_2 = 0.12425019096299973\n",
    "Point is likely in cluster 0.\n",
    "\n",
    "The points that lie between 7-10 are classified together, which makes sense since mean_1 = 8.542011470937155 and mean_2 = 5.814784602818261. \n"
   ]
  },
  {
   "cell_type": "markdown",
   "metadata": {},
   "source": [
    "f) Having computed `P(S_j | X_i)`, update the estimates of `mean_j`, `var_j`, and `P(S_j)`. How different are these values from the original ones you got from K means? briefly comment."
   ]
  },
  {
   "cell_type": "code",
   "execution_count": 13,
   "metadata": {},
   "outputs": [
    {
     "name": "stdout",
     "output_type": "stream",
     "text": [
      "P(S_1) = 0.43643964478699865,  P(S_2) = 0.5635603552130014\n",
      "mean_1 = 8.462352963279683,  mean_2 = 6.184061180464873\n",
      "var_1 = 0.798141402017749,  var_2 = 1.3123166959221793\n"
     ]
    }
   ],
   "source": [
    "prob_s = [sum(prob_s0_x)/ len(prob_s0_x), sum(prob_s1_x)/ len(prob_s1_x) ]\n",
    "mean = [sum([x[0] * x[1] for x in zip(prob_s0_x, data)]) / sum(prob_s0_x), \n",
    "        sum([x[0] * x[1] for x in zip(prob_s1_x, data)]) / sum(prob_s1_x) ]\n",
    "var = [sum([x[0] * (x[1] - mean[0]) ** 2 for x in zip(prob_s0_x, data)]) / sum(prob_s0_x),\n",
    "       sum([x[0] * (x[1] - mean[1]) ** 2 for x in zip(prob_s1_x, data)]) / sum(prob_s1_x)]\n",
    "\n",
    "print(\"P(S_1) = \" + str(prob_s[0]) + \",  P(S_2) = \" + str(prob_s[1]))\n",
    "print(\"mean_1 = \" + str(mean[0]) + \",  mean_2 = \" + str(mean[1]))\n",
    "print(\"var_1 = \" + str(var[0]) + \",  var_2 = \" + str(var[1]))"
   ]
  },
  {
   "cell_type": "markdown",
   "metadata": {},
   "source": [
    "\n",
    "The intra-cluster variance values are a lot lower now. There is also a higher P(S_2)"
   ]
  },
  {
   "cell_type": "markdown",
   "metadata": {},
   "source": [
    "g) Update `P(S_j | X_i)`. Comment on any differences or lack thereof you observe."
   ]
  },
  {
   "cell_type": "code",
   "execution_count": 26,
   "metadata": {},
   "outputs": [
    {
     "name": "stdout",
     "output_type": "stream",
     "text": [
      "point =  7.726731821707084\n",
      "probability of observing that point if it came from cluster 0 =  0.3268660921603573\n",
      "probability of observing that point if it came from cluster 1 =  0.15233539353109152\n",
      "point =  6.442723348419195\n",
      "probability of observing that point if it came from cluster 0 =  0.020343962509176867\n",
      "probability of observing that point if it came from cluster 1 =  0.2981503270017867\n",
      "point =  5.856582360864448\n",
      "probability of observing that point if it came from cluster 0 =  0.00242257892931397\n",
      "probability of observing that point if it came from cluster 1 =  0.29467909917286195\n",
      "point =  4.762819880108156\n",
      "probability of observing that point if it came from cluster 0 =  1.0800272528413927e-05\n",
      "probability of observing that point if it came from cluster 1 =  0.1691145484488235\n",
      "point =  8.47123832810856\n",
      "probability of observing that point if it came from cluster 0 =  0.4998081278339895\n",
      "probability of observing that point if it came from cluster 1 =  0.06656984374431095\n",
      "point =  5.985208393294818\n",
      "probability of observing that point if it came from cluster 0 =  0.00404706439187942\n",
      "probability of observing that point if it came from cluster 1 =  0.30052842013078485\n",
      "point =  6.0265890314046855\n",
      "probability of observing that point if it came from cluster 0 =  0.004747223483907426\n",
      "probability of observing that point if it came from cluster 1 =  0.3018177129481312\n",
      "point =  9.679244229300338\n",
      "probability of observing that point if it came from cluster 0 =  0.15633449775558228\n",
      "probability of observing that point if it came from cluster 1 =  0.00876053184668644\n",
      "point =  7.556072678055267\n",
      "probability of observing that point if it came from cluster 0 =  0.26233421491961567\n",
      "probability of observing that point if it came from cluster 1 =  0.17600281862888345\n",
      "point =  9.276770297514524\n",
      "probability of observing that point if it came from cluster 0 =  0.2969863069237762\n",
      "probability of observing that point if it came from cluster 1 =  0.018916884674653932\n",
      "7.726731821707084\n",
      "Probability of coming from S_1 = 0.6243003627182129\n",
      "Probability of coming from S_2 = 0.3756996372817872\n",
      "\n",
      "6.442723348419195\n",
      "Probability of coming from S_1 = 0.050190390582679725\n",
      "Probability of coming from S_2 = 0.9498096094173203\n",
      "\n",
      "5.856582360864448\n",
      "Probability of coming from S_1 = 0.0063263922620889765\n",
      "Probability of coming from S_2 = 0.993673607737911\n",
      "\n",
      "4.762819880108156\n",
      "Probability of coming from S_1 = 4.9455662575306944e-05\n",
      "Probability of coming from S_2 = 0.9999505443374247\n",
      "\n",
      "8.47123832810856\n",
      "Probability of coming from S_1 = 0.8532532721240801\n",
      "Probability of coming from S_2 = 0.14674672787591986\n",
      "\n",
      "5.985208393294818\n",
      "Probability of coming from S_1 = 0.010321256428320984\n",
      "Probability of coming from S_2 = 0.989678743571679\n",
      "\n",
      "6.0265890314046855\n",
      "Probability of coming from S_1 = 0.012034293055561921\n",
      "Probability of coming from S_2 = 0.9879657069444382\n",
      "\n",
      "9.679244229300338\n",
      "Probability of coming from S_1 = 0.932523626358628\n",
      "Probability of coming from S_2 = 0.06747637364137211\n",
      "\n",
      "7.556072678055267\n",
      "Probability of coming from S_1 = 0.5358123131777042\n",
      "Probability of coming from S_2 = 0.46418768682229583\n",
      "\n",
      "9.276770297514524\n",
      "Probability of coming from S_1 = 0.9240019710859046\n",
      "Probability of coming from S_2 = 0.07599802891409535\n",
      "\n"
     ]
    }
   ],
   "source": [
    "from scipy.stats import norm\n",
    "\n",
    "prob_s0_x = [] # P(S_0 | X_i)\n",
    "prob_s1_x = [] # P(S_1 | X_i)\n",
    "prob_x = [] # P(X_i)\n",
    "\n",
    "k = 2\n",
    "\n",
    "for p in data:\n",
    "    print(\"point = \", p)\n",
    "    pdf_i = []\n",
    "\n",
    "    for j in range(k):\n",
    "        # P(X_i | S_j)\n",
    "        pdf_i.append(norm.pdf(p, mean[j], var[j]))\n",
    "        print(\"probability of observing that point if it came from cluster \" + str(j) + \" = \", pdf_i[j])\n",
    "        # P(S_j) already computed\n",
    "        prob_s[j]\n",
    "\n",
    "    # P(X_i) = P(S_0)P(X_i | S_0) + P(S_1)P(X_i | S_1)\n",
    "    prob_x = prob_s[0] * pdf_i[0] + prob_s[1] * pdf_i[1]\n",
    "\n",
    "    # P(S_j | X_i) = P(X_i | S_j)P(S_j) / P(X_i)\n",
    "    prob_s0_x.append( pdf_i[0]*prob_s[0]/prob_x )\n",
    "    prob_s1_x.append( pdf_i[1]*prob_s[1]/prob_x )\n",
    "\n",
    "probs = zip(data, prob_s0_x, prob_s1_x)\n",
    "for p in probs:\n",
    "    print(p[0])\n",
    "    print(\"Probability of coming from S_1 = \" + str(p[1]))\n",
    "    print(\"Probability of coming from S_2 = \" + str(p[2]))\n",
    "    print()\n"
   ]
  },
  {
   "cell_type": "markdown",
   "metadata": {},
   "source": [
    "The probabilities match the real position of the points more closely."
   ]
  },
  {
   "cell_type": "markdown",
   "metadata": {},
   "source": [
    "h) Use `P(S_j | X_i)` to create a hard assignment - label each point as belonging to a specific cluster (0 or 1)"
   ]
  },
  {
   "cell_type": "code",
   "execution_count": 25,
   "metadata": {},
   "outputs": [
    {
     "name": "stdout",
     "output_type": "stream",
     "text": [
      "[(7.726731821707084, 0), (6.442723348419195, 1), (5.856582360864448, 1), (4.762819880108156, 1), (8.47123832810856, 1), (5.985208393294818, 1), (6.0265890314046855, 1), (9.679244229300338, 0), (7.556072678055267, 1), (9.276770297514524, 0)]\n"
     ]
    }
   ],
   "source": [
    "assignments = []\n",
    "\n",
    "for i in zip(data, prob_s0_x):\n",
    "    point = i[0]\n",
    "    p = i[1]\n",
    "    if random.random() <= p:\n",
    "        assignments.append((point,0))\n",
    "    else:\n",
    "        assignments.append((point, 1))\n",
    "print(assignments)"
   ]
  }
 ],
 "metadata": {
  "kernelspec": {
   "display_name": "Python 3",
   "language": "python",
   "name": "python3"
  },
  "language_info": {
   "codemirror_mode": {
    "name": "ipython",
    "version": 3
   },
   "file_extension": ".py",
   "mimetype": "text/x-python",
   "name": "python",
   "nbconvert_exporter": "python",
   "pygments_lexer": "ipython3",
   "version": "3.10.11"
  },
  "orig_nbformat": 4,
  "vscode": {
   "interpreter": {
    "hash": "e7370f93d1d0cde622a1f8e1c04877d8463912d04d973331ad4851f04de6915a"
   }
  }
 },
 "nbformat": 4,
 "nbformat_minor": 2
}
