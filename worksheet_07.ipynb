{
 "cells": [
  {
   "attachments": {},
   "cell_type": "markdown",
   "metadata": {},
   "source": [
    "# Worksheet 07\n",
    "\n",
    "Name:  Ivanna M\n",
    "UID: U69469925\n",
    "\n",
    "### Topics\n",
    "\n",
    "- Density-Based Clustering\n",
    "\n",
    "### Density-Based Clustering\n",
    "\n",
    "Follow along with the live coding of the DBScan algorithm."
   ]
  },
  {
   "cell_type": "code",
   "execution_count": 6,
   "metadata": {},
   "outputs": [
    {
     "ename": "ModuleNotFoundError",
     "evalue": "No module named 'sklearn'",
     "output_type": "error",
     "traceback": [
      "\u001b[1;31m---------------------------------------------------------------------------\u001b[0m",
      "\u001b[1;31mModuleNotFoundError\u001b[0m                       Traceback (most recent call last)",
      "\u001b[1;32mc:\\Users\\ivann\\CS506_Worksheets\\worksheet_07.ipynb Cell 2\u001b[0m line \u001b[0;36m3\n\u001b[0;32m      <a href='vscode-notebook-cell:/c%3A/Users/ivann/CS506_Worksheets/worksheet_07.ipynb#W1sZmlsZQ%3D%3D?line=0'>1</a>\u001b[0m \u001b[39mimport\u001b[39;00m \u001b[39mnumpy\u001b[39;00m \u001b[39mas\u001b[39;00m \u001b[39mnp\u001b[39;00m\n\u001b[0;32m      <a href='vscode-notebook-cell:/c%3A/Users/ivann/CS506_Worksheets/worksheet_07.ipynb#W1sZmlsZQ%3D%3D?line=1'>2</a>\u001b[0m \u001b[39mimport\u001b[39;00m \u001b[39mmatplotlib\u001b[39;00m\u001b[39m.\u001b[39;00m\u001b[39mpyplot\u001b[39;00m \u001b[39mas\u001b[39;00m \u001b[39mplt\u001b[39;00m\n\u001b[1;32m----> <a href='vscode-notebook-cell:/c%3A/Users/ivann/CS506_Worksheets/worksheet_07.ipynb#W1sZmlsZQ%3D%3D?line=2'>3</a>\u001b[0m \u001b[39mimport\u001b[39;00m \u001b[39msklearn\u001b[39;00m\u001b[39m.\u001b[39;00m\u001b[39mdatasets\u001b[39;00m \u001b[39mas\u001b[39;00m \u001b[39mdatasets\u001b[39;00m\n\u001b[0;32m      <a href='vscode-notebook-cell:/c%3A/Users/ivann/CS506_Worksheets/worksheet_07.ipynb#W1sZmlsZQ%3D%3D?line=4'>5</a>\u001b[0m centers \u001b[39m=\u001b[39m [[\u001b[39m1\u001b[39m, \u001b[39m1\u001b[39m], [\u001b[39m-\u001b[39m\u001b[39m1\u001b[39m, \u001b[39m-\u001b[39m\u001b[39m1\u001b[39m], [\u001b[39m1\u001b[39m, \u001b[39m-\u001b[39m\u001b[39m1\u001b[39m]]\n\u001b[0;32m      <a href='vscode-notebook-cell:/c%3A/Users/ivann/CS506_Worksheets/worksheet_07.ipynb#W1sZmlsZQ%3D%3D?line=5'>6</a>\u001b[0m X, _ \u001b[39m=\u001b[39m datasets\u001b[39m.\u001b[39mmake_blobs(n_samples\u001b[39m=\u001b[39m\u001b[39m750\u001b[39m, centers\u001b[39m=\u001b[39mcenters, cluster_std\u001b[39m=\u001b[39m\u001b[39m0.4\u001b[39m,\n\u001b[0;32m      <a href='vscode-notebook-cell:/c%3A/Users/ivann/CS506_Worksheets/worksheet_07.ipynb#W1sZmlsZQ%3D%3D?line=6'>7</a>\u001b[0m                             random_state\u001b[39m=\u001b[39m\u001b[39m0\u001b[39m)\n",
      "\u001b[1;31mModuleNotFoundError\u001b[0m: No module named 'sklearn'"
     ]
    }
   ],
   "source": [
    "import numpy as np\n",
    "import matplotlib.pyplot as plt\n",
    "import sklearn.datasets as datasets\n",
    "\n",
    "centers = [[1, 1], [-1, -1], [1, -1]]\n",
    "X, _ = datasets.make_blobs(n_samples=750, centers=centers, cluster_std=0.4,\n",
    "                            random_state=0)\n",
    "plt.scatter(X[:,0],X[:,1],s=10, alpha=0.8)\n",
    "plt.show()\n",
    "\n",
    "class DBC():\n",
    "\n",
    "    def __init__(self, dataset, min_pts, epsilon):\n",
    "        self.dataset = dataset\n",
    "        self.min_pts = min_pts\n",
    "        self.epsilon = epsilon\n",
    "        self.assignments = [0 for _ in range(len(self.dataset))]\n",
    "    \n",
    "    def get_neighborhood(self, i):\n",
    "        neighborhood = []\n",
    "        for j in range(len(self.dataset)):\n",
    "          if self.distance(i, j)<= self.epsilon and i != j:\n",
    "            neighborhood.append(j)\n",
    "        return neighborhood\n",
    "\n",
    "    def distance(self, i, j):\n",
    "        \"\"\"returns euclidean distance\"\"\"\n",
    "        return np.linalg.norm([self.dataset[i] - self.dataset[j]])\n",
    "\n",
    "    def is_core(self, i):\n",
    "        return len(self.get_neighborhood(i)) >= self.min_pts\n",
    "    \n",
    "    def assign(self, i, cluster_num):\n",
    "        #change assignment \n",
    "        self.assignments[i] = cluster_num\n",
    "        neighbor_queue = self.get_neighborhood(i)\n",
    "\n",
    "        while neighbor_queue:\n",
    "          next_candidate = neighbor_queue.pop()\n",
    "          if self.assignments[next_candidate]!=0:\n",
    "            continue\n",
    "          self.assignments[next_candidate] = cluster_num\n",
    "\n",
    "          if self.is_core(next_candidate):\n",
    "            next_neighborhood = self.get_neighborhood(next_candidate)\n",
    "            neighbor_queue+=([i for i in next_neighborhood if self.assignments[i]==0])\n",
    "\n",
    "        return \n",
    "\n",
    "    def dbscan(self):\n",
    "        \"\"\"\n",
    "        returns a list of assignments. The index of the\n",
    "        assignment should match the index of the data point\n",
    "        in the dataset.\n",
    "        \"\"\"\n",
    "        assignments =[0 for _ in range(len(self.dataset))] # 0 = not assigned\n",
    "        cluster_num = 1\n",
    "        for i in range(len(self.dataset)):\n",
    "            if self.is_core(i) and self.assignments[i]==0:\n",
    "                self.assign(i, cluster_num)\n",
    "                cluster_num += 1\n",
    "        return self.assignments\n",
    "\n",
    "clustering = DBC(X, 3, .2).dbscan()\n",
    "colors = np.array([x for x in 'bgrcmykbgrcmykbgrcmykbgrcmyk'])\n",
    "colors = np.hstack([colors] * 40)\n",
    "plt.scatter(X[:, 0], X[:, 1], color=colors[clustering].tolist(), s=10, alpha=0.8)\n",
    "plt.show()"
   ]
  }
 ],
 "metadata": {
  "kernelspec": {
   "display_name": "Python 3",
   "language": "python",
   "name": "python3"
  },
  "language_info": {
   "codemirror_mode": {
    "name": "ipython",
    "version": 3
   },
   "file_extension": ".py",
   "mimetype": "text/x-python",
   "name": "python",
   "nbconvert_exporter": "python",
   "pygments_lexer": "ipython3",
   "version": "3.10.11"
  },
  "orig_nbformat": 4,
  "vscode": {
   "interpreter": {
    "hash": "76ca05dc3ea24b2e3b98cdb7774adfbb40773424bf5109b477fd793f623715af"
   }
  }
 },
 "nbformat": 4,
 "nbformat_minor": 2
}
